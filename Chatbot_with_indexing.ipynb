{
  "nbformat": 4,
  "nbformat_minor": 0,
  "metadata": {
    "colab": {
      "provenance": [],
      "gpuType": "T4",
      "authorship_tag": "ABX9TyNfnBrpNMmsWeOnf7b6AZf6",
      "include_colab_link": true
    },
    "kernelspec": {
      "name": "python3",
      "display_name": "Python 3"
    },
    "language_info": {
      "name": "python"
    },
    "accelerator": "GPU"
  },
  "cells": [
    {
      "cell_type": "markdown",
      "metadata": {
        "id": "view-in-github",
        "colab_type": "text"
      },
      "source": [
        "<a href=\"https://colab.research.google.com/github/mishkajethwani/summer-research-24/blob/main/Chatbot_with_indexing.ipynb\" target=\"_parent\"><img src=\"https://colab.research.google.com/assets/colab-badge.svg\" alt=\"Open In Colab\"/></a>"
      ]
    },
    {
      "cell_type": "code",
      "execution_count": null,
      "metadata": {
        "colab": {
          "base_uri": "https://localhost:8080/"
        },
        "id": "3O_ymVnAVvRy",
        "outputId": "a95bc05b-3b01-4907-faea-e7177b02d165"
      },
      "outputs": [
        {
          "name": "stdout",
          "output_type": "stream",
          "text": [
            "\u001b[2K     \u001b[90m━━━━━━━━━━━━━━━━━━━━━━━━━━━━━━━━━━━━━━━━\u001b[0m \u001b[32m983.6/983.6 kB\u001b[0m \u001b[31m9.4 MB/s\u001b[0m eta \u001b[36m0:00:00\u001b[0m\n",
            "\u001b[2K     \u001b[90m━━━━━━━━━━━━━━━━━━━━━━━━━━━━━━━━━━━━━━━━\u001b[0m \u001b[32m357.9/357.9 kB\u001b[0m \u001b[31m20.2 MB/s\u001b[0m eta \u001b[36m0:00:00\u001b[0m\n",
            "\u001b[2K     \u001b[90m━━━━━━━━━━━━━━━━━━━━━━━━━━━━━━━━━━━━━━━━\u001b[0m \u001b[32m127.9/127.9 kB\u001b[0m \u001b[31m5.9 MB/s\u001b[0m eta \u001b[36m0:00:00\u001b[0m\n",
            "\u001b[2K     \u001b[90m━━━━━━━━━━━━━━━━━━━━━━━━━━━━━━━━━━━━━━━━\u001b[0m \u001b[32m141.1/141.1 kB\u001b[0m \u001b[31m4.0 MB/s\u001b[0m eta \u001b[36m0:00:00\u001b[0m\n",
            "\u001b[2K     \u001b[90m━━━━━━━━━━━━━━━━━━━━━━━━━━━━━━━━━━━━━━━━\u001b[0m \u001b[32m46.1/46.1 kB\u001b[0m \u001b[31m894.7 kB/s\u001b[0m eta \u001b[36m0:00:00\u001b[0m\n",
            "\u001b[2K     \u001b[90m━━━━━━━━━━━━━━━━━━━━━━━━━━━━━━━━━━━━━━━━\u001b[0m \u001b[32m328.5/328.5 kB\u001b[0m \u001b[31m7.2 MB/s\u001b[0m eta \u001b[36m0:00:00\u001b[0m\n",
            "\u001b[2K     \u001b[90m━━━━━━━━━━━━━━━━━━━━━━━━━━━━━━━━━━━━━━━━\u001b[0m \u001b[32m1.1/1.1 MB\u001b[0m \u001b[31m22.7 MB/s\u001b[0m eta \u001b[36m0:00:00\u001b[0m\n",
            "\u001b[2K     \u001b[90m━━━━━━━━━━━━━━━━━━━━━━━━━━━━━━━━━━━━━━━━\u001b[0m \u001b[32m75.6/75.6 kB\u001b[0m \u001b[31m4.6 MB/s\u001b[0m eta \u001b[36m0:00:00\u001b[0m\n",
            "\u001b[2K     \u001b[90m━━━━━━━━━━━━━━━━━━━━━━━━━━━━━━━━━━━━━━━━\u001b[0m \u001b[32m77.9/77.9 kB\u001b[0m \u001b[31m5.4 MB/s\u001b[0m eta \u001b[36m0:00:00\u001b[0m\n",
            "\u001b[2K     \u001b[90m━━━━━━━━━━━━━━━━━━━━━━━━━━━━━━━━━━━━━━━━\u001b[0m \u001b[32m58.3/58.3 kB\u001b[0m \u001b[31m832.5 kB/s\u001b[0m eta \u001b[36m0:00:00\u001b[0m\n",
            "\u001b[2K     \u001b[90m━━━━━━━━━━━━━━━━━━━━━━━━━━━━━━━━━━━━━━━━\u001b[0m \u001b[32m2.2/2.2 MB\u001b[0m \u001b[31m15.3 MB/s\u001b[0m eta \u001b[36m0:00:00\u001b[0m\n",
            "\u001b[2K     \u001b[90m━━━━━━━━━━━━━━━━━━━━━━━━━━━━━━━━━━━━━━━━\u001b[0m \u001b[32m49.2/49.2 kB\u001b[0m \u001b[31m4.7 MB/s\u001b[0m eta \u001b[36m0:00:00\u001b[0m\n",
            "\u001b[?25h  Preparing metadata (setup.py) ... \u001b[?25l\u001b[?25hdone\n",
            "  Building wheel for wikipedia (setup.py) ... \u001b[?25l\u001b[?25hdone\n",
            "Collecting yake\n",
            "  Downloading yake-0.4.8-py2.py3-none-any.whl (60 kB)\n",
            "\u001b[2K     \u001b[90m━━━━━━━━━━━━━━━━━━━━━━━━━━━━━━━━━━━━━━━━\u001b[0m \u001b[32m60.2/60.2 kB\u001b[0m \u001b[31m1.9 MB/s\u001b[0m eta \u001b[36m0:00:00\u001b[0m\n",
            "\u001b[?25hRequirement already satisfied: tabulate in /usr/local/lib/python3.10/dist-packages (from yake) (0.9.0)\n",
            "Requirement already satisfied: click>=6.0 in /usr/local/lib/python3.10/dist-packages (from yake) (8.1.7)\n",
            "Requirement already satisfied: numpy in /usr/local/lib/python3.10/dist-packages (from yake) (1.25.2)\n",
            "Collecting segtok (from yake)\n",
            "  Downloading segtok-1.5.11-py3-none-any.whl (24 kB)\n",
            "Requirement already satisfied: networkx in /usr/local/lib/python3.10/dist-packages (from yake) (3.3)\n",
            "Requirement already satisfied: jellyfish in /usr/local/lib/python3.10/dist-packages (from yake) (1.0.4)\n",
            "Requirement already satisfied: regex in /usr/local/lib/python3.10/dist-packages (from segtok->yake) (2024.5.15)\n",
            "Installing collected packages: segtok, yake\n",
            "Successfully installed segtok-1.5.11 yake-0.4.8\n",
            "Collecting langchain_elasticsearch\n",
            "  Downloading langchain_elasticsearch-0.2.2-py3-none-any.whl (23 kB)\n",
            "Collecting elasticsearch[vectorstore-mmr]<9.0.0,>=8.13.1 (from langchain_elasticsearch)\n",
            "  Downloading elasticsearch-8.14.0-py3-none-any.whl (480 kB)\n",
            "\u001b[2K     \u001b[90m━━━━━━━━━━━━━━━━━━━━━━━━━━━━━━━━━━━━━━━━\u001b[0m \u001b[32m480.2/480.2 kB\u001b[0m \u001b[31m9.6 MB/s\u001b[0m eta \u001b[36m0:00:00\u001b[0m\n",
            "\u001b[?25hRequirement already satisfied: langchain-core<0.3,>=0.1.50 in /usr/local/lib/python3.10/dist-packages (from langchain_elasticsearch) (0.2.13)\n",
            "\u001b[33mWARNING: elasticsearch 8.14.0 does not provide the extra 'vectorstore-mmr'\u001b[0m\u001b[33m\n",
            "\u001b[0mCollecting elastic-transport<9,>=8.13 (from elasticsearch[vectorstore-mmr]<9.0.0,>=8.13.1->langchain_elasticsearch)\n",
            "  Downloading elastic_transport-8.13.1-py3-none-any.whl (64 kB)\n",
            "\u001b[2K     \u001b[90m━━━━━━━━━━━━━━━━━━━━━━━━━━━━━━━━━━━━━━━━\u001b[0m \u001b[32m64.5/64.5 kB\u001b[0m \u001b[31m7.2 MB/s\u001b[0m eta \u001b[36m0:00:00\u001b[0m\n",
            "\u001b[?25hRequirement already satisfied: PyYAML>=5.3 in /usr/local/lib/python3.10/dist-packages (from langchain-core<0.3,>=0.1.50->langchain_elasticsearch) (6.0.1)\n",
            "Requirement already satisfied: jsonpatch<2.0,>=1.33 in /usr/local/lib/python3.10/dist-packages (from langchain-core<0.3,>=0.1.50->langchain_elasticsearch) (1.33)\n",
            "Requirement already satisfied: langsmith<0.2.0,>=0.1.75 in /usr/local/lib/python3.10/dist-packages (from langchain-core<0.3,>=0.1.50->langchain_elasticsearch) (0.1.85)\n",
            "Requirement already satisfied: packaging<25,>=23.2 in /usr/local/lib/python3.10/dist-packages (from langchain-core<0.3,>=0.1.50->langchain_elasticsearch) (24.1)\n",
            "Requirement already satisfied: pydantic<3,>=1 in /usr/local/lib/python3.10/dist-packages (from langchain-core<0.3,>=0.1.50->langchain_elasticsearch) (2.8.0)\n",
            "Requirement already satisfied: tenacity!=8.4.0,<9.0.0,>=8.1.0 in /usr/local/lib/python3.10/dist-packages (from langchain-core<0.3,>=0.1.50->langchain_elasticsearch) (8.4.2)\n",
            "Requirement already satisfied: urllib3<3,>=1.26.2 in /usr/local/lib/python3.10/dist-packages (from elastic-transport<9,>=8.13->elasticsearch[vectorstore-mmr]<9.0.0,>=8.13.1->langchain_elasticsearch) (2.0.7)\n",
            "Requirement already satisfied: certifi in /usr/local/lib/python3.10/dist-packages (from elastic-transport<9,>=8.13->elasticsearch[vectorstore-mmr]<9.0.0,>=8.13.1->langchain_elasticsearch) (2024.6.2)\n",
            "Requirement already satisfied: jsonpointer>=1.9 in /usr/local/lib/python3.10/dist-packages (from jsonpatch<2.0,>=1.33->langchain-core<0.3,>=0.1.50->langchain_elasticsearch) (3.0.0)\n",
            "Requirement already satisfied: orjson<4.0.0,>=3.9.14 in /usr/local/lib/python3.10/dist-packages (from langsmith<0.2.0,>=0.1.75->langchain-core<0.3,>=0.1.50->langchain_elasticsearch) (3.10.6)\n",
            "Requirement already satisfied: requests<3,>=2 in /usr/local/lib/python3.10/dist-packages (from langsmith<0.2.0,>=0.1.75->langchain-core<0.3,>=0.1.50->langchain_elasticsearch) (2.31.0)\n",
            "Requirement already satisfied: annotated-types>=0.4.0 in /usr/local/lib/python3.10/dist-packages (from pydantic<3,>=1->langchain-core<0.3,>=0.1.50->langchain_elasticsearch) (0.7.0)\n",
            "Requirement already satisfied: pydantic-core==2.20.0 in /usr/local/lib/python3.10/dist-packages (from pydantic<3,>=1->langchain-core<0.3,>=0.1.50->langchain_elasticsearch) (2.20.0)\n",
            "Requirement already satisfied: typing-extensions>=4.6.1 in /usr/local/lib/python3.10/dist-packages (from pydantic<3,>=1->langchain-core<0.3,>=0.1.50->langchain_elasticsearch) (4.12.2)\n",
            "Requirement already satisfied: charset-normalizer<4,>=2 in /usr/local/lib/python3.10/dist-packages (from requests<3,>=2->langsmith<0.2.0,>=0.1.75->langchain-core<0.3,>=0.1.50->langchain_elasticsearch) (3.3.2)\n",
            "Requirement already satisfied: idna<4,>=2.5 in /usr/local/lib/python3.10/dist-packages (from requests<3,>=2->langsmith<0.2.0,>=0.1.75->langchain-core<0.3,>=0.1.50->langchain_elasticsearch) (3.7)\n",
            "Installing collected packages: elastic-transport, elasticsearch, langchain_elasticsearch\n",
            "Successfully installed elastic-transport-8.13.1 elasticsearch-8.14.0 langchain_elasticsearch-0.2.2\n",
            "Requirement already satisfied: openai in /usr/local/lib/python3.10/dist-packages (1.35.13)\n",
            "Requirement already satisfied: anyio<5,>=3.5.0 in /usr/local/lib/python3.10/dist-packages (from openai) (3.7.1)\n",
            "Requirement already satisfied: distro<2,>=1.7.0 in /usr/lib/python3/dist-packages (from openai) (1.7.0)\n",
            "Requirement already satisfied: httpx<1,>=0.23.0 in /usr/local/lib/python3.10/dist-packages (from openai) (0.27.0)\n",
            "Requirement already satisfied: pydantic<3,>=1.9.0 in /usr/local/lib/python3.10/dist-packages (from openai) (2.8.0)\n",
            "Requirement already satisfied: sniffio in /usr/local/lib/python3.10/dist-packages (from openai) (1.3.1)\n",
            "Requirement already satisfied: tqdm>4 in /usr/local/lib/python3.10/dist-packages (from openai) (4.66.4)\n",
            "Requirement already satisfied: typing-extensions<5,>=4.7 in /usr/local/lib/python3.10/dist-packages (from openai) (4.12.2)\n",
            "Requirement already satisfied: idna>=2.8 in /usr/local/lib/python3.10/dist-packages (from anyio<5,>=3.5.0->openai) (3.7)\n",
            "Requirement already satisfied: exceptiongroup in /usr/local/lib/python3.10/dist-packages (from anyio<5,>=3.5.0->openai) (1.2.1)\n",
            "Requirement already satisfied: certifi in /usr/local/lib/python3.10/dist-packages (from httpx<1,>=0.23.0->openai) (2024.6.2)\n",
            "Requirement already satisfied: httpcore==1.* in /usr/local/lib/python3.10/dist-packages (from httpx<1,>=0.23.0->openai) (1.0.5)\n",
            "Requirement already satisfied: h11<0.15,>=0.13 in /usr/local/lib/python3.10/dist-packages (from httpcore==1.*->httpx<1,>=0.23.0->openai) (0.14.0)\n",
            "Requirement already satisfied: annotated-types>=0.4.0 in /usr/local/lib/python3.10/dist-packages (from pydantic<3,>=1.9.0->openai) (0.7.0)\n",
            "Requirement already satisfied: pydantic-core==2.20.0 in /usr/local/lib/python3.10/dist-packages (from pydantic<3,>=1.9.0->openai) (2.20.0)\n",
            "··········\n"
          ]
        }
      ],
      "source": [
        "# Important Installations\n",
        "! pip install --quiet langchain\n",
        "! pip install -qU --quiet langchain-openai\n",
        "! pip install --quiet langchain_community\n",
        "! pip install --quiet -qU langchain-openai\n",
        "! pip install --upgrade --quiet langchain langchainhub\n",
        "! pip install --upgrade --quiet  wikipedia\n",
        "! pip install yake\n",
        "! pip install langchain_elasticsearch\n",
        "! pip install openai\n",
        "#Setting the API key\n",
        "import getpass\n",
        "import os\n",
        "os.environ[\"OPENAI_API_KEY\"] = getpass.getpass()\n",
        "from langchain_openai import ChatOpenAI\n",
        "model = ChatOpenAI(model=\"gpt-3.5-turbo\")\n",
        "from langchain_core.messages import HumanMessage"
      ]
    },
    {
      "cell_type": "code",
      "source": [
        "text = \"\"\"Chapter 1: Dress Code and Appearance\n",
        "Section 1: General Dress Code\n",
        "Employees are required to dress in a professional manner at all times. This means business attire is mandatory during working hours. Men must wear suits and ties, while women should wear formal dresses or business suits. Casual Fridays are strictly prohibited.\n",
        "\n",
        "The company believes that professional attire reflects the professionalism of its employees and the overall image of the organization. Therefore, adherence to the dress code is strictly enforced. Employees who fail to comply with the dress code may be subject to disciplinary action, including potential termination.\n",
        "\n",
        "Section 2: Specific Guidelines for Men\n",
        "Suits and Ties: Men must wear a suit and tie every day. The suit should be dark-colored, preferably black or navy blue. Ties should be conservative, avoiding any bright colors or patterns.\n",
        "Shirts: White shirts are mandatory. Colored or patterned shirts are not allowed.\n",
        "Footwear: Black formal shoes are required. Sneakers, sandals, or any casual footwear are strictly forbidden.\n",
        "Accessories: Minimal accessories are allowed. Watches should be simple and not flashy. No jewelry, except for wedding bands, is permitted.\n",
        "To maintain a uniform appearance, men are also required to ensure that their suits are well-tailored and clean. The company provides a dry-cleaning service to help employees maintain their professional appearance.\n",
        "\n",
        "Section 3: Specific Guidelines for Women\n",
        "Dresses and Suits: Women must wear formal dresses or business suits. Skirts should be knee-length or longer. Pantsuits are allowed as long as they are professional and conservative.\n",
        "Colors: Only neutral colors such as black, gray, and navy blue are allowed. Bright colors and patterns are not permitted.\n",
        "Footwear: Closed-toe shoes are required. Heels should not exceed three inches. Flats are acceptable if they are formal.\n",
        "Accessories: Minimal accessories are allowed. Simple jewelry is permitted, but should not be too flashy. Watches should be understated.\n",
        "Women are also encouraged to choose attire that is modest and professional. The company offers a style guide to assist female employees in selecting appropriate outfits that align with the dress code.\n",
        "\n",
        "Section 4: Grooming Standards\n",
        "Hair: Hair must be neatly styled and of natural color. Unnatural hair colors such as blue, green, or pink are not allowed. Men should be clean-shaven or have neatly trimmed facial hair.\n",
        "Nails: Nails should be clean and trimmed. Nail polish is allowed for women but must be in neutral colors. Bright colors are not permitted.\n",
        "Makeup: Makeup should be minimal and natural-looking. Excessive makeup is not allowed.\n",
        "The grooming standards are in place to ensure that all employees present a neat and professional appearance. Employees are expected to maintain these standards both in the office and when representing the company externally.\n",
        "\n",
        "Section 5: Casual Days\n",
        "The company recognizes the need for employees to feel comfortable and relaxed occasionally. Therefore, Casual Fridays are implemented where employees can wear smart-casual attire. Jeans are permitted, but they must be clean and without any rips or tears. T-shirts are allowed as long as they are plain and free from any logos or slogans.\n",
        "\n",
        "On Casual Fridays, employees are still expected to maintain a level of professionalism in their appearance. The casual dress code is a privilege and can be revoked if employees do not adhere to the guidelines.\n",
        "\n",
        "Chapter 2: Workplace Etiquette and Conduct\n",
        "Section 1: Communication\n",
        "Professional Language: All communication, whether verbal or written, must be professional. Slang, jargon, and informal language are not permitted.\n",
        "Email Etiquette: Emails should be concise and to the point. Greetings and sign-offs should be formal. Use \"Dear\" followed by the recipient's last name, and close with \"Sincerely\" or \"Best regards.\"\n",
        "Meetings: Punctuality is crucial. Arrive at least five minutes before the scheduled time. During meetings, phones should be turned off or set to silent mode.\n",
        "Effective communication is essential for maintaining a professional work environment. Employees are expected to follow these guidelines to ensure clear and respectful communication.\n",
        "\n",
        "Section 2: Interaction with Colleagues\n",
        "Respect: Treat all colleagues with respect. Discrimination or harassment of any kind will not be tolerated.\n",
        "Teamwork: Collaborate effectively with your team. Support each other and work towards common goals.\n",
        "Personal Space: Respect each other's personal space. Do not intrude on a colleague's workspace without permission.\n",
        "Building a positive workplace culture is a priority for the company. Employees are encouraged to foster an environment of mutual respect and cooperation.\n",
        "\n",
        "Section 3: Interaction with Clients\n",
        "Professionalism: Always maintain a high level of professionalism when interacting with clients. Address them formally and be attentive to their needs.\n",
        "Confidentiality: Protect client information at all times. Do not discuss client details in public areas or with unauthorized individuals.\n",
        "Client interactions are crucial to the company's success. Employees are expected to uphold the highest standards of professionalism and confidentiality.\n",
        "\n",
        "Section 4: Office Environment\n",
        "Cleanliness: Keep your workspace clean and organized. Dispose of trash properly and clean up after yourself.\n",
        "Noise Levels: Maintain a quiet working environment. Use headphones for personal audio and keep conversations at a low volume.\n",
        "Personal Items: Limit personal items on your desk. Only items that contribute to a professional appearance are allowed.\n",
        "A clean and orderly office environment enhances productivity and promotes a positive work atmosphere. Employees are responsible for maintaining their own workspaces.\n",
        "\n",
        "Section 5: Social Media\n",
        "Usage: Social media should not be accessed during working hours unless it is part of your job responsibilities.\n",
        "Representation: Do not represent the company on social media without authorization. Personal opinions should not be linked to the company.\n",
        "Privacy: Do not share any confidential company information on social media platforms.\n",
        "Employees are reminded that their behavior on social media can reflect on the company. Responsible use of social media is essential to maintain the company's reputation.\n",
        "\n",
        "Chapter 3: Work Hours and Break Policies\n",
        "Section 1: Standard Working Hours\n",
        "Hours of Operation: The company's standard working hours are from 9:00 AM to 5:00 PM, Monday to Friday. All employees are expected to adhere to these hours.\n",
        "Punctuality: Arriving on time is crucial. Employees should clock in no later than 9:00 AM and clock out no earlier than 5:00 PM. Repeated tardiness will result in disciplinary action.\n",
        "Overtime: Overtime is discouraged. If necessary, it must be approved by a supervisor in advance. Overtime will be compensated at the standard hourly rate.\n",
        "The company values punctuality and expects all employees to adhere to the standard working hours to ensure smooth operations and productivity.\n",
        "\n",
        "Section 2: Breaks\n",
        "Lunch Break: Employees are entitled to a one-hour lunch break. This break should be taken between 12:00 PM and 2:00 PM. Employees should stagger their lunch breaks to ensure coverage.\n",
        "Short Breaks: Employees are allowed two 15-minute breaks, one in the morning and one in the afternoon. These breaks should be taken at times that do not disrupt work.\n",
        "Rest Areas: Breaks should be taken in designated rest areas. Employees are encouraged to use these areas to relax and recharge.\n",
        "Breaks are essential for maintaining employee well-being and productivity. Employees are encouraged to take their breaks at the designated times.\n",
        "\n",
        "Section 3: Flexibility and Remote Work\n",
        "Flexible Hours: The company supports flexible working hours to accommodate personal needs. Employees can start as early as 7:00 AM or as late as 10:00 AM, provided they complete their eight-hour workday.\n",
        "Remote Work: Remote work is permitted with prior approval from a supervisor. Employees must ensure they have a suitable work environment at home and maintain productivity levels.\n",
        "The company understands the need for flexibility and provides options for flexible hours and remote work to support work-life balance.\n",
        "\n",
        "Section 4: Leave Policies\n",
        "Vacation Leave: Employees are entitled to 15 days of paid vacation leave per year. Leave requests must be submitted at least two weeks in advance.\n",
        "Sick Leave: Employees are entitled to 10 days of paid sick leave per year. A medical certificate is required for sick leave exceeding two days.\n",
        "Parental Leave: The company offers 12 weeks of paid parental leave for the birth or adoption of a child. This leave can be taken by either parent.\n",
        "The company offers comprehensive leave policies to support employees' personal and family needs.\n",
        "\n",
        "Section 5: Attendance and Absence\n",
        "Attendance Tracking: Attendance is tracked using a digital clock-in system. Employees must clock in and out daily.\n",
        "Unplanned Absences: Unplanned absences should be reported to a supervisor as soon as possible. Repeated unplanned absences will result in disciplinary action.\n",
        "Return to Work: After an extended absence, employees must provide a return-to-work note from their healthcare provider.\n",
        "The company emphasizes the importance of attendance and has systems in place to track and manage employee attendance.\"\"\"\n",
        "\n",
        "chunk_size = 1000\n",
        "chunks =[]\n",
        "chunks = [text[i:i + chunk_size] for i in range(0, len(text), chunk_size)]\n",
        "print(len(chunks))\n",
        "\n",
        "from openai import OpenAI\n",
        "import pandas as pd\n",
        "client = OpenAI()\n",
        "\n",
        "def get_embedding(text, model=\"text-embedding-3-small\"):\n",
        "   text = text.replace(\"\\n\", \" \")\n",
        "   response = client.embeddings.create(input=[text], model=model)\n",
        "   return response.data[0].embedding\n",
        "embeddings = []\n",
        "for chunk in chunks:\n",
        "     embeddings.append(get_embedding(chunk))\n",
        "import numpy as np\n",
        "embeddings = np.array(embeddings).astype('float32')"
      ],
      "metadata": {
        "colab": {
          "base_uri": "https://localhost:8080/"
        },
        "id": "FdDF_GzXV1N6",
        "outputId": "5e9af7e5-4138-44a0-9c0a-423292533841"
      },
      "execution_count": null,
      "outputs": [
        {
          "output_type": "stream",
          "name": "stdout",
          "text": [
            "10\n"
          ]
        }
      ]
    },
    {
      "cell_type": "code",
      "source": [
        "!pip install faiss-cpu"
      ],
      "metadata": {
        "colab": {
          "base_uri": "https://localhost:8080/"
        },
        "id": "agtCvr7eHUWh",
        "outputId": "a9bfee82-1ce3-4bbf-9a3d-00d4784cbb55"
      },
      "execution_count": null,
      "outputs": [
        {
          "output_type": "stream",
          "name": "stdout",
          "text": [
            "Collecting faiss-cpu\n",
            "  Downloading faiss_cpu-1.8.0.post1-cp310-cp310-manylinux_2_17_x86_64.manylinux2014_x86_64.whl (27.0 MB)\n",
            "\u001b[2K     \u001b[90m━━━━━━━━━━━━━━━━━━━━━━━━━━━━━━━━━━━━━━━━\u001b[0m \u001b[32m27.0/27.0 MB\u001b[0m \u001b[31m22.1 MB/s\u001b[0m eta \u001b[36m0:00:00\u001b[0m\n",
            "\u001b[?25hRequirement already satisfied: numpy<2.0,>=1.0 in /usr/local/lib/python3.10/dist-packages (from faiss-cpu) (1.25.2)\n",
            "Requirement already satisfied: packaging in /usr/local/lib/python3.10/dist-packages (from faiss-cpu) (24.1)\n",
            "Installing collected packages: faiss-cpu\n",
            "Successfully installed faiss-cpu-1.8.0.post1\n"
          ]
        }
      ]
    },
    {
      "cell_type": "code",
      "source": [
        "import faiss\n",
        "d = embeddings.shape[1]\n",
        "index = faiss.IndexFlatL2(d) # faiss library for nearest neighbor search\n",
        "index.add(embeddings)"
      ],
      "metadata": {
        "id": "a1G0n_X3gKIa"
      },
      "execution_count": null,
      "outputs": []
    },
    {
      "cell_type": "code",
      "source": [
        "question = \"What are the contradictions in the rules of the company\"\n",
        "question_embeddings = np.array([get_embedding(question)])\n",
        "question_embeddings.shape\n",
        "D, I = index.search(question_embeddings, k=2)\n",
        "retrieved_chunk = [chunks[i] for i in I.tolist()[0]]\n",
        "prompt = f\"\"\"\n",
        "Context information is below.\n",
        "---------------------\n",
        "{retrieved_chunk}\n",
        "---------------------\n",
        "Given the context information and not prior knowledge, answer the query.\n",
        "Query: {question}\n",
        "Answer:\n",
        "\"\"\""
      ],
      "metadata": {
        "id": "ys8wAYmpm2A8"
      },
      "execution_count": null,
      "outputs": []
    },
    {
      "cell_type": "code",
      "source": [
        "import openai\n",
        "\n",
        "def run_gpt(user_message, model=\"gpt-4\"):\n",
        "    llm = ChatOpenAI(temperature=0)\n",
        "    session_id = \"abc12\"\n",
        "    config = {\"configurable\": {\"session_id\": session_id}}\n",
        "    user_input = user_message\n",
        "    messages = [HumanMessage(content=user_input)]\n",
        "    response = llm.invoke(messages, config)\n",
        "    bot_response = response.content\n",
        "    print(\"Chatbot:\", bot_response)\n",
        "    while True:\n",
        "      print(\"you can ask further questions to the chat bot now\")\n",
        "      user_input = input(\"You:\" )\n",
        "      messages = [HumanMessage(content=user_input)]\n",
        "      response = llm.invoke(messages, config)\n",
        "      bot_response = response.content\n",
        "      print(\"Chatbot:\", bot_response)\n",
        "\n",
        "\n",
        "\n",
        ""
      ],
      "metadata": {
        "id": "CftIglVUnCsZ"
      },
      "execution_count": 14,
      "outputs": []
    },
    {
      "cell_type": "code",
      "source": [
        "run_gpt(prompt)"
      ],
      "metadata": {
        "colab": {
          "base_uri": "https://localhost:8080/",
          "height": 349
        },
        "id": "YmSc_D46H05z",
        "outputId": "492689e7-126e-470f-865e-4266627fd2d8"
      },
      "execution_count": 15,
      "outputs": [
        {
          "output_type": "stream",
          "name": "stdout",
          "text": [
            "Chatbot: One contradiction in the rules of the company is regarding overtime. While it is discouraged, it can be approved by a supervisor in advance and compensated at the standard hourly rate. This may create confusion for employees on when overtime is acceptable and when it is not.\n",
            "you can ask further questions to the chat bot now\n"
          ]
        },
        {
          "output_type": "error",
          "ename": "KeyboardInterrupt",
          "evalue": "Interrupted by user",
          "traceback": [
            "\u001b[0;31m---------------------------------------------------------------------------\u001b[0m",
            "\u001b[0;31mKeyboardInterrupt\u001b[0m                         Traceback (most recent call last)",
            "\u001b[0;32m<ipython-input-15-503966832ff7>\u001b[0m in \u001b[0;36m<cell line: 1>\u001b[0;34m()\u001b[0m\n\u001b[0;32m----> 1\u001b[0;31m \u001b[0mrun_gpt\u001b[0m\u001b[0;34m(\u001b[0m\u001b[0mprompt\u001b[0m\u001b[0;34m)\u001b[0m\u001b[0;34m\u001b[0m\u001b[0;34m\u001b[0m\u001b[0m\n\u001b[0m",
            "\u001b[0;32m<ipython-input-14-5e2e87c75359>\u001b[0m in \u001b[0;36mrun_gpt\u001b[0;34m(user_message, model)\u001b[0m\n\u001b[1;32m     12\u001b[0m     \u001b[0;32mwhile\u001b[0m \u001b[0;32mTrue\u001b[0m\u001b[0;34m:\u001b[0m\u001b[0;34m\u001b[0m\u001b[0;34m\u001b[0m\u001b[0m\n\u001b[1;32m     13\u001b[0m       \u001b[0mprint\u001b[0m\u001b[0;34m(\u001b[0m\u001b[0;34m\"you can ask further questions to the chat bot now\"\u001b[0m\u001b[0;34m)\u001b[0m\u001b[0;34m\u001b[0m\u001b[0;34m\u001b[0m\u001b[0m\n\u001b[0;32m---> 14\u001b[0;31m       \u001b[0muser_input\u001b[0m \u001b[0;34m=\u001b[0m \u001b[0minput\u001b[0m\u001b[0;34m(\u001b[0m\u001b[0;34m\"You:\"\u001b[0m \u001b[0;34m)\u001b[0m\u001b[0;34m\u001b[0m\u001b[0;34m\u001b[0m\u001b[0m\n\u001b[0m\u001b[1;32m     15\u001b[0m       \u001b[0mmessages\u001b[0m \u001b[0;34m=\u001b[0m \u001b[0;34m[\u001b[0m\u001b[0mHumanMessage\u001b[0m\u001b[0;34m(\u001b[0m\u001b[0mcontent\u001b[0m\u001b[0;34m=\u001b[0m\u001b[0muser_input\u001b[0m\u001b[0;34m)\u001b[0m\u001b[0;34m]\u001b[0m\u001b[0;34m\u001b[0m\u001b[0;34m\u001b[0m\u001b[0m\n\u001b[1;32m     16\u001b[0m       \u001b[0mresponse\u001b[0m \u001b[0;34m=\u001b[0m \u001b[0mllm\u001b[0m\u001b[0;34m.\u001b[0m\u001b[0minvoke\u001b[0m\u001b[0;34m(\u001b[0m\u001b[0mmessages\u001b[0m\u001b[0;34m,\u001b[0m \u001b[0mconfig\u001b[0m\u001b[0;34m)\u001b[0m\u001b[0;34m\u001b[0m\u001b[0;34m\u001b[0m\u001b[0m\n",
            "\u001b[0;32m/usr/local/lib/python3.10/dist-packages/ipykernel/kernelbase.py\u001b[0m in \u001b[0;36mraw_input\u001b[0;34m(self, prompt)\u001b[0m\n\u001b[1;32m    849\u001b[0m                 \u001b[0;34m\"raw_input was called, but this frontend does not support input requests.\"\u001b[0m\u001b[0;34m\u001b[0m\u001b[0;34m\u001b[0m\u001b[0m\n\u001b[1;32m    850\u001b[0m             )\n\u001b[0;32m--> 851\u001b[0;31m         return self._input_request(str(prompt),\n\u001b[0m\u001b[1;32m    852\u001b[0m             \u001b[0mself\u001b[0m\u001b[0;34m.\u001b[0m\u001b[0m_parent_ident\u001b[0m\u001b[0;34m,\u001b[0m\u001b[0;34m\u001b[0m\u001b[0;34m\u001b[0m\u001b[0m\n\u001b[1;32m    853\u001b[0m             \u001b[0mself\u001b[0m\u001b[0;34m.\u001b[0m\u001b[0m_parent_header\u001b[0m\u001b[0;34m,\u001b[0m\u001b[0;34m\u001b[0m\u001b[0;34m\u001b[0m\u001b[0m\n",
            "\u001b[0;32m/usr/local/lib/python3.10/dist-packages/ipykernel/kernelbase.py\u001b[0m in \u001b[0;36m_input_request\u001b[0;34m(self, prompt, ident, parent, password)\u001b[0m\n\u001b[1;32m    893\u001b[0m             \u001b[0;32mexcept\u001b[0m \u001b[0mKeyboardInterrupt\u001b[0m\u001b[0;34m:\u001b[0m\u001b[0;34m\u001b[0m\u001b[0;34m\u001b[0m\u001b[0m\n\u001b[1;32m    894\u001b[0m                 \u001b[0;31m# re-raise KeyboardInterrupt, to truncate traceback\u001b[0m\u001b[0;34m\u001b[0m\u001b[0;34m\u001b[0m\u001b[0m\n\u001b[0;32m--> 895\u001b[0;31m                 \u001b[0;32mraise\u001b[0m \u001b[0mKeyboardInterrupt\u001b[0m\u001b[0;34m(\u001b[0m\u001b[0;34m\"Interrupted by user\"\u001b[0m\u001b[0;34m)\u001b[0m \u001b[0;32mfrom\u001b[0m \u001b[0;32mNone\u001b[0m\u001b[0;34m\u001b[0m\u001b[0;34m\u001b[0m\u001b[0m\n\u001b[0m\u001b[1;32m    896\u001b[0m             \u001b[0;32mexcept\u001b[0m \u001b[0mException\u001b[0m \u001b[0;32mas\u001b[0m \u001b[0me\u001b[0m\u001b[0;34m:\u001b[0m\u001b[0;34m\u001b[0m\u001b[0;34m\u001b[0m\u001b[0m\n\u001b[1;32m    897\u001b[0m                 \u001b[0mself\u001b[0m\u001b[0;34m.\u001b[0m\u001b[0mlog\u001b[0m\u001b[0;34m.\u001b[0m\u001b[0mwarning\u001b[0m\u001b[0;34m(\u001b[0m\u001b[0;34m\"Invalid Message:\"\u001b[0m\u001b[0;34m,\u001b[0m \u001b[0mexc_info\u001b[0m\u001b[0;34m=\u001b[0m\u001b[0;32mTrue\u001b[0m\u001b[0;34m)\u001b[0m\u001b[0;34m\u001b[0m\u001b[0;34m\u001b[0m\u001b[0m\n",
            "\u001b[0;31mKeyboardInterrupt\u001b[0m: Interrupted by user"
          ]
        }
      ]
    },
    {
      "cell_type": "code",
      "source": [],
      "metadata": {
        "id": "qkXAP5PkH-Cw"
      },
      "execution_count": null,
      "outputs": []
    }
  ]
}