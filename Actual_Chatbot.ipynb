{
  "cells": [
    {
      "cell_type": "markdown",
      "metadata": {
        "id": "view-in-github",
        "colab_type": "text"
      },
      "source": [
        "<a href=\"https://colab.research.google.com/github/mishkajethwani/summer-research-24/blob/main/Actual_Chatbot.ipynb\" target=\"_parent\"><img src=\"https://colab.research.google.com/assets/colab-badge.svg\" alt=\"Open In Colab\"/></a>"
      ]
    },
    {
      "cell_type": "code",
      "execution_count": 8,
      "metadata": {
        "id": "P6WTnSDbRYgZ",
        "colab": {
          "base_uri": "https://localhost:8080/"
        },
        "outputId": "d7342569-f688-4162-cad6-b012b6d106e0"
      },
      "outputs": [
        {
          "output_type": "stream",
          "name": "stdout",
          "text": [
            "Requirement already satisfied: yake in /usr/local/lib/python3.10/dist-packages (0.4.8)\n",
            "Requirement already satisfied: tabulate in /usr/local/lib/python3.10/dist-packages (from yake) (0.9.0)\n",
            "Requirement already satisfied: click>=6.0 in /usr/local/lib/python3.10/dist-packages (from yake) (8.1.7)\n",
            "Requirement already satisfied: numpy in /usr/local/lib/python3.10/dist-packages (from yake) (1.25.2)\n",
            "Requirement already satisfied: segtok in /usr/local/lib/python3.10/dist-packages (from yake) (1.5.11)\n",
            "Requirement already satisfied: networkx in /usr/local/lib/python3.10/dist-packages (from yake) (3.3)\n",
            "Requirement already satisfied: jellyfish in /usr/local/lib/python3.10/dist-packages (from yake) (1.0.4)\n",
            "Requirement already satisfied: regex in /usr/local/lib/python3.10/dist-packages (from segtok->yake) (2024.5.15)\n"
          ]
        }
      ],
      "source": [
        "# Important Installations\n",
        "! pip install --quiet langchain\n",
        "! pip install -qU --quiet langchain-openai\n",
        "! pip install --quiet langchain_community\n",
        "! pip install --quiet -qU langchain-openai\n",
        "! pip install --upgrade --quiet langchain langchainhub\n",
        "! pip install --upgrade --quiet  wikipedia\n",
        "! pip install yake"
      ]
    },
    {
      "cell_type": "code",
      "execution_count": 4,
      "metadata": {
        "colab": {
          "base_uri": "https://localhost:8080/"
        },
        "id": "88cNGBRKR1-H",
        "outputId": "02422577-61ad-4b00-f89b-df9e67e93889"
      },
      "outputs": [
        {
          "name": "stdout",
          "output_type": "stream",
          "text": [
            "··········\n"
          ]
        }
      ],
      "source": [
        "#Setting the API key\n",
        "import getpass\n",
        "import os\n",
        "os.environ[\"OPENAI_API_KEY\"] = getpass.getpass()\n",
        "from langchain_openai import ChatOpenAI\n",
        "model = ChatOpenAI(model=\"gpt-3.5-turbo\")\n",
        "from langchain_core.messages import HumanMessage\n",
        "from langchain_core.messages import AIMessage"
      ]
    },
    {
      "cell_type": "code",
      "execution_count": 5,
      "metadata": {
        "id": "5e8B5_LMSSdK"
      },
      "outputs": [],
      "source": [
        "# Function to get History\n",
        "\n",
        "from langchain_community.chat_message_histories import ChatMessageHistory\n",
        "from langchain_core.chat_history import BaseChatMessageHistory\n",
        "from langchain_core.runnables.history import RunnableWithMessageHistory\n",
        "\n",
        "store = {}\n",
        "\n",
        "def get_session_history(session_id: str) -> BaseChatMessageHistory:\n",
        "    if session_id not in store:\n",
        "        store[session_id] = ChatMessageHistory()\n",
        "    return store[session_id]\n",
        "\n",
        "\n",
        "with_message_history = RunnableWithMessageHistory(model, get_session_history)"
      ]
    },
    {
      "cell_type": "code",
      "source": [
        "# All tools are defined here\n",
        "\n",
        "from langchain_core.tools import tool\n",
        "\n",
        "#Tools for Calculator\n",
        "\n",
        "@tool\n",
        "def subtract(integer_1: int, integer_2: int) -> int:\n",
        "    \"\"\"Subtract integer_2 from integer_1.\"\"\"\n",
        "    return integer_1 - integer_2\n",
        "\n",
        "@tool\n",
        "def multiply(integer_1: int, integer_2: int) -> int:\n",
        "    \"\"\"Multiply two integers.\"\"\"\n",
        "    return integer_1 * integer_2\n",
        "\n",
        "@tool\n",
        "def divide(integer_1: float, integer_2: float) -> float:\n",
        "    \"\"\"Divide integer_1 by integer_2. Returns a float.\"\"\"\n",
        "    return integer_1 / integer_2\n",
        "\n",
        "@tool\n",
        "def modulo(integer_1: int, integer_2: int) -> int:\n",
        "    \"\"\"Calculate the remainder of division.\"\"\"\n",
        "    return integer_1 % integer_2\n",
        "\n",
        "\n",
        "@tool\n",
        "def add(first_int: int, second_int: int) -> int:\n",
        "    \"Add two integers.\"\n",
        "    return first_int + second_int\n",
        "\n",
        "\n",
        "@tool\n",
        "def exponentiate(base: int, exponent: int) -> int:\n",
        "    \"Exponentiate the base to the exponent power.\"\n",
        "    return base**exponent\n",
        "\n",
        "@tool\n",
        "def factorial(integer_1: int) -> int:\n",
        "    \"\"\"Calculate the factorial of a non-negative integer.\"\"\"\n",
        "    result = 1\n",
        "    for i in range(2, integer_1 + 1):\n",
        "        result *= i\n",
        "    return result\n",
        "\n",
        "# Tool for wikipedia\n",
        "from langchain_community.tools import WikipediaQueryRun\n",
        "from langchain_community.utilities import WikipediaAPIWrapper\n",
        "\n",
        "def wiki(input):\n",
        "    wikipedia = WikipediaQueryRun(api_wrapper=WikipediaAPIWrapper())\n",
        "    return wikipedia.run(input)\n",
        "\n",
        "chat_tools = [subtract, multiply, divide, modulo, factorial, add, exponentiate, wiki]"
      ],
      "metadata": {
        "id": "HvdMGVcmT4EO"
      },
      "execution_count": 6,
      "outputs": []
    },
    {
      "cell_type": "code",
      "source": [
        "# Run for Basic Chat bot with history\n",
        "from langchain_core.messages import HumanMessage, AIMessage\n",
        "\n",
        "def chat_bot_normal():\n",
        "    session_id = \"abc12\"\n",
        "    config = {\"configurable\": {\"session_id\": session_id}}\n",
        "\n",
        "    print(\"Chatbot: Hello! How can I assist you today?\")\n",
        "\n",
        "    while True:\n",
        "        user_input = input(\"You: \")\n",
        "        messages = [HumanMessage(content=user_input)]\n",
        "        response = with_message_history.invoke(messages, config)\n",
        "        bot_response = response.content\n",
        "\n",
        "\n",
        "        print(\"Chatbot:\", bot_response)\n",
        "chat_bot_normal()"
      ],
      "metadata": {
        "id": "SHUw1DvxfEpk",
        "colab": {
          "base_uri": "https://localhost:8080/",
          "height": 402
        },
        "outputId": "8f33f812-363e-4ef5-9882-2e0240e767d9"
      },
      "execution_count": 19,
      "outputs": [
        {
          "output_type": "stream",
          "name": "stdout",
          "text": [
            "Chatbot: Hello! How can I assist you today?\n",
            "You: what is python\n",
            "Chatbot: Python is a high-level programming language known for its simplicity and readability. It is widely used in various fields such as web development, data science, machine learning, artificial intelligence, and more. Python has a large standard library that provides support for a wide range of programming tasks and is also known for its extensive community support and documentation.\n"
          ]
        },
        {
          "output_type": "error",
          "ename": "KeyboardInterrupt",
          "evalue": "Interrupted by user",
          "traceback": [
            "\u001b[0;31m---------------------------------------------------------------------------\u001b[0m",
            "\u001b[0;31mKeyboardInterrupt\u001b[0m                         Traceback (most recent call last)",
            "\u001b[0;32m<ipython-input-19-9238047469aa>\u001b[0m in \u001b[0;36m<cell line: 18>\u001b[0;34m()\u001b[0m\n\u001b[1;32m     16\u001b[0m \u001b[0;34m\u001b[0m\u001b[0m\n\u001b[1;32m     17\u001b[0m         \u001b[0mprint\u001b[0m\u001b[0;34m(\u001b[0m\u001b[0;34m\"Chatbot:\"\u001b[0m\u001b[0;34m,\u001b[0m \u001b[0mbot_response\u001b[0m\u001b[0;34m)\u001b[0m\u001b[0;34m\u001b[0m\u001b[0;34m\u001b[0m\u001b[0m\n\u001b[0;32m---> 18\u001b[0;31m \u001b[0mchat_bot_normal\u001b[0m\u001b[0;34m(\u001b[0m\u001b[0;34m)\u001b[0m\u001b[0;34m\u001b[0m\u001b[0;34m\u001b[0m\u001b[0m\n\u001b[0m",
            "\u001b[0;32m<ipython-input-19-9238047469aa>\u001b[0m in \u001b[0;36mchat_bot_normal\u001b[0;34m()\u001b[0m\n\u001b[1;32m      9\u001b[0m \u001b[0;34m\u001b[0m\u001b[0m\n\u001b[1;32m     10\u001b[0m     \u001b[0;32mwhile\u001b[0m \u001b[0;32mTrue\u001b[0m\u001b[0;34m:\u001b[0m\u001b[0;34m\u001b[0m\u001b[0;34m\u001b[0m\u001b[0m\n\u001b[0;32m---> 11\u001b[0;31m         \u001b[0muser_input\u001b[0m \u001b[0;34m=\u001b[0m \u001b[0minput\u001b[0m\u001b[0;34m(\u001b[0m\u001b[0;34m\"You: \"\u001b[0m\u001b[0;34m)\u001b[0m\u001b[0;34m\u001b[0m\u001b[0;34m\u001b[0m\u001b[0m\n\u001b[0m\u001b[1;32m     12\u001b[0m         \u001b[0mmessages\u001b[0m \u001b[0;34m=\u001b[0m \u001b[0;34m[\u001b[0m\u001b[0mHumanMessage\u001b[0m\u001b[0;34m(\u001b[0m\u001b[0mcontent\u001b[0m\u001b[0;34m=\u001b[0m\u001b[0muser_input\u001b[0m\u001b[0;34m)\u001b[0m\u001b[0;34m]\u001b[0m\u001b[0;34m\u001b[0m\u001b[0;34m\u001b[0m\u001b[0m\n\u001b[1;32m     13\u001b[0m         \u001b[0mresponse\u001b[0m \u001b[0;34m=\u001b[0m \u001b[0mwith_message_history\u001b[0m\u001b[0;34m.\u001b[0m\u001b[0minvoke\u001b[0m\u001b[0;34m(\u001b[0m\u001b[0mmessages\u001b[0m\u001b[0;34m,\u001b[0m \u001b[0mconfig\u001b[0m\u001b[0;34m)\u001b[0m\u001b[0;34m\u001b[0m\u001b[0;34m\u001b[0m\u001b[0m\n",
            "\u001b[0;32m/usr/local/lib/python3.10/dist-packages/ipykernel/kernelbase.py\u001b[0m in \u001b[0;36mraw_input\u001b[0;34m(self, prompt)\u001b[0m\n\u001b[1;32m    849\u001b[0m                 \u001b[0;34m\"raw_input was called, but this frontend does not support input requests.\"\u001b[0m\u001b[0;34m\u001b[0m\u001b[0;34m\u001b[0m\u001b[0m\n\u001b[1;32m    850\u001b[0m             )\n\u001b[0;32m--> 851\u001b[0;31m         return self._input_request(str(prompt),\n\u001b[0m\u001b[1;32m    852\u001b[0m             \u001b[0mself\u001b[0m\u001b[0;34m.\u001b[0m\u001b[0m_parent_ident\u001b[0m\u001b[0;34m,\u001b[0m\u001b[0;34m\u001b[0m\u001b[0;34m\u001b[0m\u001b[0m\n\u001b[1;32m    853\u001b[0m             \u001b[0mself\u001b[0m\u001b[0;34m.\u001b[0m\u001b[0m_parent_header\u001b[0m\u001b[0;34m,\u001b[0m\u001b[0;34m\u001b[0m\u001b[0;34m\u001b[0m\u001b[0m\n",
            "\u001b[0;32m/usr/local/lib/python3.10/dist-packages/ipykernel/kernelbase.py\u001b[0m in \u001b[0;36m_input_request\u001b[0;34m(self, prompt, ident, parent, password)\u001b[0m\n\u001b[1;32m    893\u001b[0m             \u001b[0;32mexcept\u001b[0m \u001b[0mKeyboardInterrupt\u001b[0m\u001b[0;34m:\u001b[0m\u001b[0;34m\u001b[0m\u001b[0;34m\u001b[0m\u001b[0m\n\u001b[1;32m    894\u001b[0m                 \u001b[0;31m# re-raise KeyboardInterrupt, to truncate traceback\u001b[0m\u001b[0;34m\u001b[0m\u001b[0;34m\u001b[0m\u001b[0m\n\u001b[0;32m--> 895\u001b[0;31m                 \u001b[0;32mraise\u001b[0m \u001b[0mKeyboardInterrupt\u001b[0m\u001b[0;34m(\u001b[0m\u001b[0;34m\"Interrupted by user\"\u001b[0m\u001b[0;34m)\u001b[0m \u001b[0;32mfrom\u001b[0m \u001b[0;32mNone\u001b[0m\u001b[0;34m\u001b[0m\u001b[0;34m\u001b[0m\u001b[0m\n\u001b[0m\u001b[1;32m    896\u001b[0m             \u001b[0;32mexcept\u001b[0m \u001b[0mException\u001b[0m \u001b[0;32mas\u001b[0m \u001b[0me\u001b[0m\u001b[0;34m:\u001b[0m\u001b[0;34m\u001b[0m\u001b[0;34m\u001b[0m\u001b[0m\n\u001b[1;32m    897\u001b[0m                 \u001b[0mself\u001b[0m\u001b[0;34m.\u001b[0m\u001b[0mlog\u001b[0m\u001b[0;34m.\u001b[0m\u001b[0mwarning\u001b[0m\u001b[0;34m(\u001b[0m\u001b[0;34m\"Invalid Message:\"\u001b[0m\u001b[0;34m,\u001b[0m \u001b[0mexc_info\u001b[0m\u001b[0;34m=\u001b[0m\u001b[0;32mTrue\u001b[0m\u001b[0;34m)\u001b[0m\u001b[0;34m\u001b[0m\u001b[0;34m\u001b[0m\u001b[0m\n",
            "\u001b[0;31mKeyboardInterrupt\u001b[0m: Interrupted by user"
          ]
        }
      ]
    },
    {
      "cell_type": "code",
      "source": [
        "# Run for Chat bot with a calculator\n",
        "from langchain_core.prompts import ChatPromptTemplate, MessagesPlaceholder, HumanMessagePromptTemplate\n",
        "from langchain.agents import AgentExecutor, create_openai_tools_agent\n",
        "from langchain_openai import ChatOpenAI\n",
        "from langchain.tools import Tool\n",
        "from langchain.memory import ConversationBufferMemory\n",
        "\n",
        "tools = [subtract, multiply, divide, modulo, factorial, add, exponentiate]\n",
        "\n",
        "def setup_math_agent():\n",
        "    llm = ChatOpenAI(temperature=0)\n",
        "\n",
        "    prompt = ChatPromptTemplate.from_messages([\n",
        "        (\"system\", \"\"\"You are a precise mathematical calculator. Follow these steps for each calculation:\n",
        "        1. Break down the problem into individual operations.\n",
        "        2. Perform each operation step-by-step, using the appropriate tool for each.\n",
        "        3. Show your work clearly, stating which tool you're using and the numbers you're inputting.\n",
        "        4. Double-check your work and provide the final answer.\n",
        "        Available tools: subtract, multiply, divide, modulo, factorial, add, exponentiate\"\"\"),\n",
        "        HumanMessagePromptTemplate.from_template(\"{input}\"),\n",
        "        MessagesPlaceholder(variable_name=\"agent_scratchpad\"),\n",
        "    ])\n",
        "\n",
        "    agent = create_openai_tools_agent(llm, tools, prompt)\n",
        "    return AgentExecutor(agent=agent, tools=tools, verbose=True)\n",
        "\n",
        "def chatbot_updated_calculator():\n",
        "    llm = ChatOpenAI(temperature=0)\n",
        "    math_agent = setup_math_agent()\n",
        "\n",
        "    math_tool = Tool(\n",
        "        name=\"math_calculator\",\n",
        "        func=lambda x: math_agent.invoke({\"input\": x})['output'],\n",
        "        description=\"Performs complex mathematical calculations. Input should be a mathematical problem.\"\n",
        "    )\n",
        "    chatbot_tools = [math_tool]\n",
        "    memory = ConversationBufferMemory(memory_key=\"chat_history\", return_messages=True)\n",
        "\n",
        "    chatbot_prompt = ChatPromptTemplate.from_messages([\n",
        "        (\"system\", \"\"\"You are a helpful assistant capable of general conversation and mathematical calculations.\n",
        "        For mathematical problems, use the math_calculator tool. For all other queries, respond normally.\n",
        "        Always maintain context from previous messages and use that information in your responses.\n",
        "        If you're not sure about something, admit that you don't know or don't have that information.\"\"\"),\n",
        "        MessagesPlaceholder(variable_name=\"chat_history\"),\n",
        "        (\"human\", \"{input}\"),\n",
        "        MessagesPlaceholder(variable_name=\"agent_scratchpad\"),\n",
        "    ])\n",
        "\n",
        "    chatbot_agent = create_openai_tools_agent(llm, chatbot_tools, chatbot_prompt)\n",
        "    chatbot_executor = AgentExecutor(agent=chatbot_agent, tools=chatbot_tools, memory=memory, verbose=True)\n",
        "\n",
        "    print(\"Chatbot: Hello! I'm a chatbot that can also do mathematical calculations. How can I assist you today?\")\n",
        "\n",
        "    while True:\n",
        "        user_input = input(\"You: \")\n",
        "        result = chatbot_executor.invoke({\"input\": user_input})\n",
        "        bot_response = result['output']\n",
        "\n",
        "chatbot_updated_calculator()"
      ],
      "metadata": {
        "id": "xW12HPq3tgJK"
      },
      "execution_count": null,
      "outputs": []
    },
    {
      "cell_type": "code",
      "source": [
        "# Run for chatbot with History+Math Tools+ RAG with wiki\n",
        "from langchain_core.prompts import ChatPromptTemplate, MessagesPlaceholder, HumanMessagePromptTemplate\n",
        "from langchain.agents import AgentExecutor, create_openai_tools_agent\n",
        "from langchain_openai import ChatOpenAI\n",
        "from langchain.tools import Tool\n",
        "from langchain.memory import ConversationBufferMemory\n",
        "import yake\n",
        "\n",
        "tools = [subtract, multiply, divide, modulo, factorial, add, exponentiate]\n",
        "\n",
        "def setup_math_agent():\n",
        "    llm = ChatOpenAI(temperature=0)\n",
        "\n",
        "    prompt = ChatPromptTemplate.from_messages([\n",
        "        (\"system\", \"\"\"You are a precise mathematical calculator. Follow these steps for each calculation:\n",
        "        1. Break down the problem into individual operations.\n",
        "        2. Perform each operation step-by-step, using the appropriate tool for each.\n",
        "        3. Show your work clearly, stating which tool you're using and the numbers you're inputting.\n",
        "        4. Double-check your work and provide the final answer.\n",
        "        Available tools: subtract, multiply, divide, modulo, factorial, add, exponentiate\"\"\"),\n",
        "        HumanMessagePromptTemplate.from_template(\"{input}\"),\n",
        "        MessagesPlaceholder(variable_name=\"agent_scratchpad\"),\n",
        "    ])\n",
        "\n",
        "    agent = create_openai_tools_agent(llm, tools, prompt)\n",
        "    return AgentExecutor(agent=agent, tools=tools, verbose=True)\n",
        "\n",
        "def extract_keywords(text):\n",
        "    language = \"en\"\n",
        "    max_ngram_size = 2\n",
        "    deduplication_threshold = 0.9\n",
        "    numOfKeywords = 5\n",
        "    custom_kw_extractor = yake.KeywordExtractor(lan=language, n=max_ngram_size, dedupLim=deduplication_threshold, top=numOfKeywords, features=None)\n",
        "    keywords = custom_kw_extractor.extract_keywords(text)\n",
        "    return [kw[0] for kw in keywords]\n",
        "\n",
        "def chatbot_updated_wiki():\n",
        "    llm = ChatOpenAI(temperature=0)\n",
        "    math_agent = setup_math_agent()\n",
        "\n",
        "    math_tool = Tool(\n",
        "        name=\"math_calculator\",\n",
        "        func=lambda x: math_agent.invoke({\"input\": x})['output'],\n",
        "        description=\"Performs complex mathematical calculations. Input should be a mathematical problem.\"\n",
        "    )\n",
        "    chatbot_tools = [math_tool]\n",
        "    memory = ConversationBufferMemory(memory_key=\"chat_history\", return_messages=True)\n",
        "\n",
        "    chatbot_prompt = ChatPromptTemplate.from_messages([\n",
        "        (\"system\", \"\"\"You are a helpful assistant capable of general conversation and mathematical calculations.\n",
        "        For mathematical problems, use the math_calculator tool. For all other queries, respond normally.\n",
        "        Always maintain context from previous messages and use that information in your responses.\n",
        "        If you're not sure about something, admit that you don't know or don't have that information.\"\"\"),\n",
        "        MessagesPlaceholder(variable_name=\"chat_history\"),\n",
        "        (\"human\", \"{input}\"),\n",
        "        MessagesPlaceholder(variable_name=\"agent_scratchpad\"),\n",
        "    ])\n",
        "\n",
        "    chatbot_agent = create_openai_tools_agent(llm, chatbot_tools, chatbot_prompt)\n",
        "    chatbot_executor = AgentExecutor(agent=chatbot_agent, tools=chatbot_tools, memory=memory, verbose=True)\n",
        "\n",
        "    print(\"Chatbot: Hello! I'm a chatbot that can also do mathematical calculations. How can I assist you today?\")\n",
        "\n",
        "    while True:\n",
        "        user_input = input(\"You: \")\n",
        "        keywords = extract_keywords(user_input)\n",
        "        print(\"Keywords:\", keywords)\n",
        "        if (len(keywords) >= 1):\n",
        "          for keyword in keywords:\n",
        "              wikipedia_usage = wiki(keyword)\n",
        "              memory.save_context({\"user_input\": user_input}, {\"wikipedia_response\": wikipedia_usage})\n",
        "\n",
        "        result = chatbot_executor.invoke({\"input\": user_input})\n",
        "\n",
        "        bot_response = result['output']\n",
        "        print(\"Bot:\", bot_response)\n",
        "\n",
        "chatbot_updated_wiki()"
      ],
      "metadata": {
        "colab": {
          "base_uri": "https://localhost:8080/",
          "height": 760
        },
        "id": "wuuLi_Sc6yDK",
        "outputId": "96b7a352-92d6-4beb-dacb-7189b68ecefa"
      },
      "execution_count": 18,
      "outputs": [
        {
          "output_type": "stream",
          "name": "stdout",
          "text": [
            "Chatbot: Hello! I'm a chatbot that can also do mathematical calculations. How can I assist you today?\n",
            "You: what is python\n",
            "Keywords: ['python']\n"
          ]
        },
        {
          "output_type": "stream",
          "name": "stderr",
          "text": [
            "/usr/local/lib/python3.10/dist-packages/wikipedia/wikipedia.py:389: GuessedAtParserWarning: No parser was explicitly specified, so I'm using the best available HTML parser for this system (\"lxml\"). This usually isn't a problem, but if you run this code on another system, or in a different virtual environment, it may use a different parser and behave differently.\n",
            "\n",
            "The code that caused this warning is on line 389 of the file /usr/local/lib/python3.10/dist-packages/wikipedia/wikipedia.py. To get rid of this warning, pass the additional argument 'features=\"lxml\"' to the BeautifulSoup constructor.\n",
            "\n",
            "  lis = BeautifulSoup(html).find_all('li')\n"
          ]
        },
        {
          "output_type": "stream",
          "name": "stdout",
          "text": [
            "\n",
            "\n",
            "\u001b[1m> Entering new AgentExecutor chain...\u001b[0m\n",
            "\u001b[32;1m\u001b[1;3mPython can refer to two different things:\n",
            "\n",
            "1. Python (programming language): Python is a high-level, general-purpose programming language known for its readability and versatility. It supports multiple programming paradigms and has a comprehensive standard library. Python was created by Guido van Rossum and first released in 1991. It is widely used in various fields, including web development, data science, and machine learning.\n",
            "\n",
            "2. Monty Python: Monty Python is a British comedy troupe formed in 1969, consisting of Graham Chapman, John Cleese, Terry Gilliam, Eric Idle, Terry Jones, and Michael Palin. They are known for their sketch comedy series \"Monty Python's Flying Circus\" and iconic films like \"Monty Python and the Holy Grail\" and \"Life of Brian.\" Monty Python's work has had a significant influence on comedy and is considered groundbreaking in the world of television comedy.\u001b[0m\n",
            "\n",
            "\u001b[1m> Finished chain.\u001b[0m\n",
            "Bot: Python can refer to two different things:\n",
            "\n",
            "1. Python (programming language): Python is a high-level, general-purpose programming language known for its readability and versatility. It supports multiple programming paradigms and has a comprehensive standard library. Python was created by Guido van Rossum and first released in 1991. It is widely used in various fields, including web development, data science, and machine learning.\n",
            "\n",
            "2. Monty Python: Monty Python is a British comedy troupe formed in 1969, consisting of Graham Chapman, John Cleese, Terry Gilliam, Eric Idle, Terry Jones, and Michael Palin. They are known for their sketch comedy series \"Monty Python's Flying Circus\" and iconic films like \"Monty Python and the Holy Grail\" and \"Life of Brian.\" Monty Python's work has had a significant influence on comedy and is considered groundbreaking in the world of television comedy.\n"
          ]
        },
        {
          "output_type": "error",
          "ename": "KeyboardInterrupt",
          "evalue": "Interrupted by user",
          "traceback": [
            "\u001b[0;31m---------------------------------------------------------------------------\u001b[0m",
            "\u001b[0;31mKeyboardInterrupt\u001b[0m                         Traceback (most recent call last)",
            "\u001b[0;32m<ipython-input-18-0b2fe11b8953>\u001b[0m in \u001b[0;36m<cell line: 78>\u001b[0;34m()\u001b[0m\n\u001b[1;32m     76\u001b[0m         \u001b[0mprint\u001b[0m\u001b[0;34m(\u001b[0m\u001b[0;34m\"Bot:\"\u001b[0m\u001b[0;34m,\u001b[0m \u001b[0mbot_response\u001b[0m\u001b[0;34m)\u001b[0m\u001b[0;34m\u001b[0m\u001b[0;34m\u001b[0m\u001b[0m\n\u001b[1;32m     77\u001b[0m \u001b[0;34m\u001b[0m\u001b[0m\n\u001b[0;32m---> 78\u001b[0;31m \u001b[0mchatbot_updated_wiki\u001b[0m\u001b[0;34m(\u001b[0m\u001b[0;34m)\u001b[0m\u001b[0;34m\u001b[0m\u001b[0;34m\u001b[0m\u001b[0m\n\u001b[0m",
            "\u001b[0;32m<ipython-input-18-0b2fe11b8953>\u001b[0m in \u001b[0;36mchatbot_updated_wiki\u001b[0;34m()\u001b[0m\n\u001b[1;32m     63\u001b[0m \u001b[0;34m\u001b[0m\u001b[0m\n\u001b[1;32m     64\u001b[0m     \u001b[0;32mwhile\u001b[0m \u001b[0;32mTrue\u001b[0m\u001b[0;34m:\u001b[0m\u001b[0;34m\u001b[0m\u001b[0;34m\u001b[0m\u001b[0m\n\u001b[0;32m---> 65\u001b[0;31m         \u001b[0muser_input\u001b[0m \u001b[0;34m=\u001b[0m \u001b[0minput\u001b[0m\u001b[0;34m(\u001b[0m\u001b[0;34m\"You: \"\u001b[0m\u001b[0;34m)\u001b[0m\u001b[0;34m\u001b[0m\u001b[0;34m\u001b[0m\u001b[0m\n\u001b[0m\u001b[1;32m     66\u001b[0m         \u001b[0mkeywords\u001b[0m \u001b[0;34m=\u001b[0m \u001b[0mextract_keywords\u001b[0m\u001b[0;34m(\u001b[0m\u001b[0muser_input\u001b[0m\u001b[0;34m)\u001b[0m\u001b[0;34m\u001b[0m\u001b[0;34m\u001b[0m\u001b[0m\n\u001b[1;32m     67\u001b[0m         \u001b[0mprint\u001b[0m\u001b[0;34m(\u001b[0m\u001b[0;34m\"Keywords:\"\u001b[0m\u001b[0;34m,\u001b[0m \u001b[0mkeywords\u001b[0m\u001b[0;34m)\u001b[0m\u001b[0;34m\u001b[0m\u001b[0;34m\u001b[0m\u001b[0m\n",
            "\u001b[0;32m/usr/local/lib/python3.10/dist-packages/ipykernel/kernelbase.py\u001b[0m in \u001b[0;36mraw_input\u001b[0;34m(self, prompt)\u001b[0m\n\u001b[1;32m    849\u001b[0m                 \u001b[0;34m\"raw_input was called, but this frontend does not support input requests.\"\u001b[0m\u001b[0;34m\u001b[0m\u001b[0;34m\u001b[0m\u001b[0m\n\u001b[1;32m    850\u001b[0m             )\n\u001b[0;32m--> 851\u001b[0;31m         return self._input_request(str(prompt),\n\u001b[0m\u001b[1;32m    852\u001b[0m             \u001b[0mself\u001b[0m\u001b[0;34m.\u001b[0m\u001b[0m_parent_ident\u001b[0m\u001b[0;34m,\u001b[0m\u001b[0;34m\u001b[0m\u001b[0;34m\u001b[0m\u001b[0m\n\u001b[1;32m    853\u001b[0m             \u001b[0mself\u001b[0m\u001b[0;34m.\u001b[0m\u001b[0m_parent_header\u001b[0m\u001b[0;34m,\u001b[0m\u001b[0;34m\u001b[0m\u001b[0;34m\u001b[0m\u001b[0m\n",
            "\u001b[0;32m/usr/local/lib/python3.10/dist-packages/ipykernel/kernelbase.py\u001b[0m in \u001b[0;36m_input_request\u001b[0;34m(self, prompt, ident, parent, password)\u001b[0m\n\u001b[1;32m    893\u001b[0m             \u001b[0;32mexcept\u001b[0m \u001b[0mKeyboardInterrupt\u001b[0m\u001b[0;34m:\u001b[0m\u001b[0;34m\u001b[0m\u001b[0;34m\u001b[0m\u001b[0m\n\u001b[1;32m    894\u001b[0m                 \u001b[0;31m# re-raise KeyboardInterrupt, to truncate traceback\u001b[0m\u001b[0;34m\u001b[0m\u001b[0;34m\u001b[0m\u001b[0m\n\u001b[0;32m--> 895\u001b[0;31m                 \u001b[0;32mraise\u001b[0m \u001b[0mKeyboardInterrupt\u001b[0m\u001b[0;34m(\u001b[0m\u001b[0;34m\"Interrupted by user\"\u001b[0m\u001b[0;34m)\u001b[0m \u001b[0;32mfrom\u001b[0m \u001b[0;32mNone\u001b[0m\u001b[0;34m\u001b[0m\u001b[0;34m\u001b[0m\u001b[0m\n\u001b[0m\u001b[1;32m    896\u001b[0m             \u001b[0;32mexcept\u001b[0m \u001b[0mException\u001b[0m \u001b[0;32mas\u001b[0m \u001b[0me\u001b[0m\u001b[0;34m:\u001b[0m\u001b[0;34m\u001b[0m\u001b[0;34m\u001b[0m\u001b[0m\n\u001b[1;32m    897\u001b[0m                 \u001b[0mself\u001b[0m\u001b[0;34m.\u001b[0m\u001b[0mlog\u001b[0m\u001b[0;34m.\u001b[0m\u001b[0mwarning\u001b[0m\u001b[0;34m(\u001b[0m\u001b[0;34m\"Invalid Message:\"\u001b[0m\u001b[0;34m,\u001b[0m \u001b[0mexc_info\u001b[0m\u001b[0;34m=\u001b[0m\u001b[0;32mTrue\u001b[0m\u001b[0;34m)\u001b[0m\u001b[0;34m\u001b[0m\u001b[0;34m\u001b[0m\u001b[0m\n",
            "\u001b[0;31mKeyboardInterrupt\u001b[0m: Interrupted by user"
          ]
        }
      ]
    }
  ],
  "metadata": {
    "colab": {
      "provenance": [],
      "gpuType": "T4",
      "authorship_tag": "ABX9TyPmmA3bMEUdtxEAVQZR0OHY",
      "include_colab_link": true
    },
    "kernelspec": {
      "display_name": "Python 3",
      "name": "python3"
    },
    "language_info": {
      "name": "python"
    },
    "accelerator": "GPU"
  },
  "nbformat": 4,
  "nbformat_minor": 0
}